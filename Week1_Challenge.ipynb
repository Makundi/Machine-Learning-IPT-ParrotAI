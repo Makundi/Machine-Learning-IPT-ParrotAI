{
 "cells": [
  {
   "cell_type": "code",
   "execution_count": 1,
   "metadata": {},
   "outputs": [],
   "source": [
    "import pandas as pd\n",
    "import matplotlib.pyplot as plt\n",
    "import numpy as np"
   ]
  },
  {
   "cell_type": "code",
   "execution_count": 2,
   "metadata": {},
   "outputs": [],
   "source": [
    "data = pd.read_csv('train_data_week_1_challenge.csv')"
   ]
  },
  {
   "cell_type": "code",
   "execution_count": 3,
   "metadata": {},
   "outputs": [
    {
     "data": {
      "text/html": [
       "<div>\n",
       "<style scoped>\n",
       "    .dataframe tbody tr th:only-of-type {\n",
       "        vertical-align: middle;\n",
       "    }\n",
       "\n",
       "    .dataframe tbody tr th {\n",
       "        vertical-align: top;\n",
       "    }\n",
       "\n",
       "    .dataframe thead th {\n",
       "        text-align: right;\n",
       "    }\n",
       "</style>\n",
       "<table border=\"1\" class=\"dataframe\">\n",
       "  <thead>\n",
       "    <tr style=\"text-align: right;\">\n",
       "      <th></th>\n",
       "      <th>continue_drop</th>\n",
       "      <th>student_id</th>\n",
       "      <th>gender</th>\n",
       "      <th>caste</th>\n",
       "      <th>mathematics_marks</th>\n",
       "      <th>english_marks</th>\n",
       "      <th>science_marks</th>\n",
       "      <th>science_teacher</th>\n",
       "      <th>languages_teacher</th>\n",
       "      <th>guardian</th>\n",
       "      <th>internet</th>\n",
       "      <th>school_id</th>\n",
       "      <th>total_students</th>\n",
       "      <th>total_toilets</th>\n",
       "      <th>establishment_year</th>\n",
       "    </tr>\n",
       "  </thead>\n",
       "  <tbody>\n",
       "    <tr>\n",
       "      <th>0</th>\n",
       "      <td>continue</td>\n",
       "      <td>s01746</td>\n",
       "      <td>M</td>\n",
       "      <td>BC</td>\n",
       "      <td>0.666</td>\n",
       "      <td>0.468</td>\n",
       "      <td>0.666</td>\n",
       "      <td>7</td>\n",
       "      <td>6</td>\n",
       "      <td>other</td>\n",
       "      <td>True</td>\n",
       "      <td>305</td>\n",
       "      <td>354</td>\n",
       "      <td>86.0</td>\n",
       "      <td>1986.0</td>\n",
       "    </tr>\n",
       "    <tr>\n",
       "      <th>1</th>\n",
       "      <td>continue</td>\n",
       "      <td>s16986</td>\n",
       "      <td>M</td>\n",
       "      <td>BC</td>\n",
       "      <td>0.172</td>\n",
       "      <td>0.420</td>\n",
       "      <td>0.172</td>\n",
       "      <td>8</td>\n",
       "      <td>10</td>\n",
       "      <td>mother</td>\n",
       "      <td>False</td>\n",
       "      <td>331</td>\n",
       "      <td>516</td>\n",
       "      <td>15.0</td>\n",
       "      <td>1996.0</td>\n",
       "    </tr>\n",
       "    <tr>\n",
       "      <th>2</th>\n",
       "      <td>continue</td>\n",
       "      <td>s00147</td>\n",
       "      <td>F</td>\n",
       "      <td>BC</td>\n",
       "      <td>0.212</td>\n",
       "      <td>0.601</td>\n",
       "      <td>0.212</td>\n",
       "      <td>1</td>\n",
       "      <td>4</td>\n",
       "      <td>mother</td>\n",
       "      <td>False</td>\n",
       "      <td>311</td>\n",
       "      <td>209</td>\n",
       "      <td>14.0</td>\n",
       "      <td>1976.0</td>\n",
       "    </tr>\n",
       "    <tr>\n",
       "      <th>3</th>\n",
       "      <td>continue</td>\n",
       "      <td>s08104</td>\n",
       "      <td>F</td>\n",
       "      <td>ST</td>\n",
       "      <td>0.434</td>\n",
       "      <td>0.611</td>\n",
       "      <td>0.434</td>\n",
       "      <td>2</td>\n",
       "      <td>5</td>\n",
       "      <td>father</td>\n",
       "      <td>True</td>\n",
       "      <td>364</td>\n",
       "      <td>147</td>\n",
       "      <td>28.0</td>\n",
       "      <td>1911.0</td>\n",
       "    </tr>\n",
       "    <tr>\n",
       "      <th>4</th>\n",
       "      <td>continue</td>\n",
       "      <td>s11132</td>\n",
       "      <td>F</td>\n",
       "      <td>SC</td>\n",
       "      <td>0.283</td>\n",
       "      <td>0.478</td>\n",
       "      <td>0.283</td>\n",
       "      <td>1</td>\n",
       "      <td>10</td>\n",
       "      <td>mother</td>\n",
       "      <td>True</td>\n",
       "      <td>394</td>\n",
       "      <td>122</td>\n",
       "      <td>15.0</td>\n",
       "      <td>1889.0</td>\n",
       "    </tr>\n",
       "  </tbody>\n",
       "</table>\n",
       "</div>"
      ],
      "text/plain": [
       "  continue_drop student_id gender caste  mathematics_marks  english_marks  \\\n",
       "0      continue     s01746      M    BC              0.666          0.468   \n",
       "1      continue     s16986      M    BC              0.172          0.420   \n",
       "2      continue     s00147      F    BC              0.212          0.601   \n",
       "3      continue     s08104      F    ST              0.434          0.611   \n",
       "4      continue     s11132      F    SC              0.283          0.478   \n",
       "\n",
       "   science_marks  science_teacher  languages_teacher guardian  internet  \\\n",
       "0          0.666                7                  6    other      True   \n",
       "1          0.172                8                 10   mother     False   \n",
       "2          0.212                1                  4   mother     False   \n",
       "3          0.434                2                  5   father      True   \n",
       "4          0.283                1                 10   mother      True   \n",
       "\n",
       "   school_id  total_students  total_toilets  establishment_year  \n",
       "0        305             354           86.0              1986.0  \n",
       "1        331             516           15.0              1996.0  \n",
       "2        311             209           14.0              1976.0  \n",
       "3        364             147           28.0              1911.0  \n",
       "4        394             122           15.0              1889.0  "
      ]
     },
     "execution_count": 3,
     "metadata": {},
     "output_type": "execute_result"
    }
   ],
   "source": [
    "data.head()"
   ]
  },
  {
   "cell_type": "code",
   "execution_count": 4,
   "metadata": {},
   "outputs": [
    {
     "data": {
      "text/plain": [
       "continue_drop           0\n",
       "student_id              0\n",
       "gender                  0\n",
       "caste                   0\n",
       "mathematics_marks       0\n",
       "english_marks           0\n",
       "science_marks           0\n",
       "science_teacher         0\n",
       "languages_teacher       0\n",
       "guardian                0\n",
       "internet                0\n",
       "school_id               0\n",
       "total_students          0\n",
       "total_toilets         312\n",
       "establishment_year    312\n",
       "dtype: int64"
      ]
     },
     "execution_count": 4,
     "metadata": {},
     "output_type": "execute_result"
    }
   ],
   "source": [
    "data.isnull().sum()"
   ]
  },
  {
   "cell_type": "code",
   "execution_count": 5,
   "metadata": {},
   "outputs": [],
   "source": [
    "data['total_toilets'].fillna(data['total_toilets'].mean(), inplace=True)"
   ]
  },
  {
   "cell_type": "code",
   "execution_count": 6,
   "metadata": {},
   "outputs": [
    {
     "data": {
      "text/plain": [
       "continue_drop           0\n",
       "student_id              0\n",
       "gender                  0\n",
       "caste                   0\n",
       "mathematics_marks       0\n",
       "english_marks           0\n",
       "science_marks           0\n",
       "science_teacher         0\n",
       "languages_teacher       0\n",
       "guardian                0\n",
       "internet                0\n",
       "school_id               0\n",
       "total_students          0\n",
       "total_toilets           0\n",
       "establishment_year    312\n",
       "dtype: int64"
      ]
     },
     "execution_count": 6,
     "metadata": {},
     "output_type": "execute_result"
    }
   ],
   "source": [
    "data.isnull().sum()"
   ]
  },
  {
   "cell_type": "code",
   "execution_count": 7,
   "metadata": {},
   "outputs": [],
   "source": [
    "data['establishment_year'].fillna(data['establishment_year'].mean(), inplace=True)"
   ]
  },
  {
   "cell_type": "code",
   "execution_count": 8,
   "metadata": {},
   "outputs": [
    {
     "data": {
      "text/plain": [
       "continue_drop         0\n",
       "student_id            0\n",
       "gender                0\n",
       "caste                 0\n",
       "mathematics_marks     0\n",
       "english_marks         0\n",
       "science_marks         0\n",
       "science_teacher       0\n",
       "languages_teacher     0\n",
       "guardian              0\n",
       "internet              0\n",
       "school_id             0\n",
       "total_students        0\n",
       "total_toilets         0\n",
       "establishment_year    0\n",
       "dtype: int64"
      ]
     },
     "execution_count": 8,
     "metadata": {},
     "output_type": "execute_result"
    }
   ],
   "source": [
    "data.isnull().sum()"
   ]
  },
  {
   "cell_type": "code",
   "execution_count": 9,
   "metadata": {},
   "outputs": [
    {
     "name": "stderr",
     "output_type": "stream",
     "text": [
      "/Volumes/Other/anaconda3/lib/python3.6/site-packages/ipykernel_launcher.py:1: SettingWithCopyWarning: \n",
      "A value is trying to be set on a copy of a slice from a DataFrame\n",
      "\n",
      "See the caveats in the documentation: http://pandas.pydata.org/pandas-docs/stable/indexing.html#indexing-view-versus-copy\n",
      "  \"\"\"Entry point for launching an IPython kernel.\n",
      "/Volumes/Other/anaconda3/lib/python3.6/site-packages/ipykernel_launcher.py:2: SettingWithCopyWarning: \n",
      "A value is trying to be set on a copy of a slice from a DataFrame\n",
      "\n",
      "See the caveats in the documentation: http://pandas.pydata.org/pandas-docs/stable/indexing.html#indexing-view-versus-copy\n",
      "  \n"
     ]
    }
   ],
   "source": [
    "data['continue_drop'][data['continue_drop'] == 'continue'] = 1\n",
    "data['continue_drop'][data['continue_drop'] == 'drop'] = 0"
   ]
  },
  {
   "cell_type": "code",
   "execution_count": 10,
   "metadata": {},
   "outputs": [
    {
     "data": {
      "text/html": [
       "<div>\n",
       "<style scoped>\n",
       "    .dataframe tbody tr th:only-of-type {\n",
       "        vertical-align: middle;\n",
       "    }\n",
       "\n",
       "    .dataframe tbody tr th {\n",
       "        vertical-align: top;\n",
       "    }\n",
       "\n",
       "    .dataframe thead th {\n",
       "        text-align: right;\n",
       "    }\n",
       "</style>\n",
       "<table border=\"1\" class=\"dataframe\">\n",
       "  <thead>\n",
       "    <tr style=\"text-align: right;\">\n",
       "      <th></th>\n",
       "      <th>continue_drop</th>\n",
       "      <th>student_id</th>\n",
       "      <th>gender</th>\n",
       "      <th>caste</th>\n",
       "      <th>mathematics_marks</th>\n",
       "      <th>english_marks</th>\n",
       "      <th>science_marks</th>\n",
       "      <th>science_teacher</th>\n",
       "      <th>languages_teacher</th>\n",
       "      <th>guardian</th>\n",
       "      <th>internet</th>\n",
       "      <th>school_id</th>\n",
       "      <th>total_students</th>\n",
       "      <th>total_toilets</th>\n",
       "      <th>establishment_year</th>\n",
       "    </tr>\n",
       "  </thead>\n",
       "  <tbody>\n",
       "    <tr>\n",
       "      <th>0</th>\n",
       "      <td>1</td>\n",
       "      <td>s01746</td>\n",
       "      <td>M</td>\n",
       "      <td>BC</td>\n",
       "      <td>0.666</td>\n",
       "      <td>0.468</td>\n",
       "      <td>0.666</td>\n",
       "      <td>7</td>\n",
       "      <td>6</td>\n",
       "      <td>other</td>\n",
       "      <td>True</td>\n",
       "      <td>305</td>\n",
       "      <td>354</td>\n",
       "      <td>86.0</td>\n",
       "      <td>1986.0</td>\n",
       "    </tr>\n",
       "    <tr>\n",
       "      <th>1</th>\n",
       "      <td>1</td>\n",
       "      <td>s16986</td>\n",
       "      <td>M</td>\n",
       "      <td>BC</td>\n",
       "      <td>0.172</td>\n",
       "      <td>0.420</td>\n",
       "      <td>0.172</td>\n",
       "      <td>8</td>\n",
       "      <td>10</td>\n",
       "      <td>mother</td>\n",
       "      <td>False</td>\n",
       "      <td>331</td>\n",
       "      <td>516</td>\n",
       "      <td>15.0</td>\n",
       "      <td>1996.0</td>\n",
       "    </tr>\n",
       "    <tr>\n",
       "      <th>2</th>\n",
       "      <td>1</td>\n",
       "      <td>s00147</td>\n",
       "      <td>F</td>\n",
       "      <td>BC</td>\n",
       "      <td>0.212</td>\n",
       "      <td>0.601</td>\n",
       "      <td>0.212</td>\n",
       "      <td>1</td>\n",
       "      <td>4</td>\n",
       "      <td>mother</td>\n",
       "      <td>False</td>\n",
       "      <td>311</td>\n",
       "      <td>209</td>\n",
       "      <td>14.0</td>\n",
       "      <td>1976.0</td>\n",
       "    </tr>\n",
       "    <tr>\n",
       "      <th>3</th>\n",
       "      <td>1</td>\n",
       "      <td>s08104</td>\n",
       "      <td>F</td>\n",
       "      <td>ST</td>\n",
       "      <td>0.434</td>\n",
       "      <td>0.611</td>\n",
       "      <td>0.434</td>\n",
       "      <td>2</td>\n",
       "      <td>5</td>\n",
       "      <td>father</td>\n",
       "      <td>True</td>\n",
       "      <td>364</td>\n",
       "      <td>147</td>\n",
       "      <td>28.0</td>\n",
       "      <td>1911.0</td>\n",
       "    </tr>\n",
       "    <tr>\n",
       "      <th>4</th>\n",
       "      <td>1</td>\n",
       "      <td>s11132</td>\n",
       "      <td>F</td>\n",
       "      <td>SC</td>\n",
       "      <td>0.283</td>\n",
       "      <td>0.478</td>\n",
       "      <td>0.283</td>\n",
       "      <td>1</td>\n",
       "      <td>10</td>\n",
       "      <td>mother</td>\n",
       "      <td>True</td>\n",
       "      <td>394</td>\n",
       "      <td>122</td>\n",
       "      <td>15.0</td>\n",
       "      <td>1889.0</td>\n",
       "    </tr>\n",
       "  </tbody>\n",
       "</table>\n",
       "</div>"
      ],
      "text/plain": [
       "  continue_drop student_id gender caste  mathematics_marks  english_marks  \\\n",
       "0             1     s01746      M    BC              0.666          0.468   \n",
       "1             1     s16986      M    BC              0.172          0.420   \n",
       "2             1     s00147      F    BC              0.212          0.601   \n",
       "3             1     s08104      F    ST              0.434          0.611   \n",
       "4             1     s11132      F    SC              0.283          0.478   \n",
       "\n",
       "   science_marks  science_teacher  languages_teacher guardian  internet  \\\n",
       "0          0.666                7                  6    other      True   \n",
       "1          0.172                8                 10   mother     False   \n",
       "2          0.212                1                  4   mother     False   \n",
       "3          0.434                2                  5   father      True   \n",
       "4          0.283                1                 10   mother      True   \n",
       "\n",
       "   school_id  total_students  total_toilets  establishment_year  \n",
       "0        305             354           86.0              1986.0  \n",
       "1        331             516           15.0              1996.0  \n",
       "2        311             209           14.0              1976.0  \n",
       "3        364             147           28.0              1911.0  \n",
       "4        394             122           15.0              1889.0  "
      ]
     },
     "execution_count": 10,
     "metadata": {},
     "output_type": "execute_result"
    }
   ],
   "source": [
    "data.head()"
   ]
  },
  {
   "cell_type": "code",
   "execution_count": 11,
   "metadata": {},
   "outputs": [],
   "source": [
    "data = pd.get_dummies(data,columns=['gender','caste','guardian','internet'])"
   ]
  },
  {
   "cell_type": "code",
   "execution_count": 12,
   "metadata": {},
   "outputs": [
    {
     "data": {
      "text/html": [
       "<div>\n",
       "<style scoped>\n",
       "    .dataframe tbody tr th:only-of-type {\n",
       "        vertical-align: middle;\n",
       "    }\n",
       "\n",
       "    .dataframe tbody tr th {\n",
       "        vertical-align: top;\n",
       "    }\n",
       "\n",
       "    .dataframe thead th {\n",
       "        text-align: right;\n",
       "    }\n",
       "</style>\n",
       "<table border=\"1\" class=\"dataframe\">\n",
       "  <thead>\n",
       "    <tr style=\"text-align: right;\">\n",
       "      <th></th>\n",
       "      <th>continue_drop</th>\n",
       "      <th>student_id</th>\n",
       "      <th>mathematics_marks</th>\n",
       "      <th>english_marks</th>\n",
       "      <th>science_marks</th>\n",
       "      <th>science_teacher</th>\n",
       "      <th>languages_teacher</th>\n",
       "      <th>school_id</th>\n",
       "      <th>total_students</th>\n",
       "      <th>total_toilets</th>\n",
       "      <th>...</th>\n",
       "      <th>caste_BC</th>\n",
       "      <th>caste_OC</th>\n",
       "      <th>caste_SC</th>\n",
       "      <th>caste_ST</th>\n",
       "      <th>guardian_father</th>\n",
       "      <th>guardian_mixed</th>\n",
       "      <th>guardian_mother</th>\n",
       "      <th>guardian_other</th>\n",
       "      <th>internet_False</th>\n",
       "      <th>internet_True</th>\n",
       "    </tr>\n",
       "  </thead>\n",
       "  <tbody>\n",
       "    <tr>\n",
       "      <th>0</th>\n",
       "      <td>1</td>\n",
       "      <td>s01746</td>\n",
       "      <td>0.666</td>\n",
       "      <td>0.468</td>\n",
       "      <td>0.666</td>\n",
       "      <td>7</td>\n",
       "      <td>6</td>\n",
       "      <td>305</td>\n",
       "      <td>354</td>\n",
       "      <td>86.0</td>\n",
       "      <td>...</td>\n",
       "      <td>1</td>\n",
       "      <td>0</td>\n",
       "      <td>0</td>\n",
       "      <td>0</td>\n",
       "      <td>0</td>\n",
       "      <td>0</td>\n",
       "      <td>0</td>\n",
       "      <td>1</td>\n",
       "      <td>0</td>\n",
       "      <td>1</td>\n",
       "    </tr>\n",
       "    <tr>\n",
       "      <th>1</th>\n",
       "      <td>1</td>\n",
       "      <td>s16986</td>\n",
       "      <td>0.172</td>\n",
       "      <td>0.420</td>\n",
       "      <td>0.172</td>\n",
       "      <td>8</td>\n",
       "      <td>10</td>\n",
       "      <td>331</td>\n",
       "      <td>516</td>\n",
       "      <td>15.0</td>\n",
       "      <td>...</td>\n",
       "      <td>1</td>\n",
       "      <td>0</td>\n",
       "      <td>0</td>\n",
       "      <td>0</td>\n",
       "      <td>0</td>\n",
       "      <td>0</td>\n",
       "      <td>1</td>\n",
       "      <td>0</td>\n",
       "      <td>1</td>\n",
       "      <td>0</td>\n",
       "    </tr>\n",
       "    <tr>\n",
       "      <th>2</th>\n",
       "      <td>1</td>\n",
       "      <td>s00147</td>\n",
       "      <td>0.212</td>\n",
       "      <td>0.601</td>\n",
       "      <td>0.212</td>\n",
       "      <td>1</td>\n",
       "      <td>4</td>\n",
       "      <td>311</td>\n",
       "      <td>209</td>\n",
       "      <td>14.0</td>\n",
       "      <td>...</td>\n",
       "      <td>1</td>\n",
       "      <td>0</td>\n",
       "      <td>0</td>\n",
       "      <td>0</td>\n",
       "      <td>0</td>\n",
       "      <td>0</td>\n",
       "      <td>1</td>\n",
       "      <td>0</td>\n",
       "      <td>1</td>\n",
       "      <td>0</td>\n",
       "    </tr>\n",
       "    <tr>\n",
       "      <th>3</th>\n",
       "      <td>1</td>\n",
       "      <td>s08104</td>\n",
       "      <td>0.434</td>\n",
       "      <td>0.611</td>\n",
       "      <td>0.434</td>\n",
       "      <td>2</td>\n",
       "      <td>5</td>\n",
       "      <td>364</td>\n",
       "      <td>147</td>\n",
       "      <td>28.0</td>\n",
       "      <td>...</td>\n",
       "      <td>0</td>\n",
       "      <td>0</td>\n",
       "      <td>0</td>\n",
       "      <td>1</td>\n",
       "      <td>1</td>\n",
       "      <td>0</td>\n",
       "      <td>0</td>\n",
       "      <td>0</td>\n",
       "      <td>0</td>\n",
       "      <td>1</td>\n",
       "    </tr>\n",
       "    <tr>\n",
       "      <th>4</th>\n",
       "      <td>1</td>\n",
       "      <td>s11132</td>\n",
       "      <td>0.283</td>\n",
       "      <td>0.478</td>\n",
       "      <td>0.283</td>\n",
       "      <td>1</td>\n",
       "      <td>10</td>\n",
       "      <td>394</td>\n",
       "      <td>122</td>\n",
       "      <td>15.0</td>\n",
       "      <td>...</td>\n",
       "      <td>0</td>\n",
       "      <td>0</td>\n",
       "      <td>1</td>\n",
       "      <td>0</td>\n",
       "      <td>0</td>\n",
       "      <td>0</td>\n",
       "      <td>1</td>\n",
       "      <td>0</td>\n",
       "      <td>0</td>\n",
       "      <td>1</td>\n",
       "    </tr>\n",
       "  </tbody>\n",
       "</table>\n",
       "<p>5 rows × 23 columns</p>\n",
       "</div>"
      ],
      "text/plain": [
       "  continue_drop student_id  mathematics_marks  english_marks  science_marks  \\\n",
       "0             1     s01746              0.666          0.468          0.666   \n",
       "1             1     s16986              0.172          0.420          0.172   \n",
       "2             1     s00147              0.212          0.601          0.212   \n",
       "3             1     s08104              0.434          0.611          0.434   \n",
       "4             1     s11132              0.283          0.478          0.283   \n",
       "\n",
       "   science_teacher  languages_teacher  school_id  total_students  \\\n",
       "0                7                  6        305             354   \n",
       "1                8                 10        331             516   \n",
       "2                1                  4        311             209   \n",
       "3                2                  5        364             147   \n",
       "4                1                 10        394             122   \n",
       "\n",
       "   total_toilets      ...        caste_BC  caste_OC  caste_SC  caste_ST  \\\n",
       "0           86.0      ...               1         0         0         0   \n",
       "1           15.0      ...               1         0         0         0   \n",
       "2           14.0      ...               1         0         0         0   \n",
       "3           28.0      ...               0         0         0         1   \n",
       "4           15.0      ...               0         0         1         0   \n",
       "\n",
       "   guardian_father  guardian_mixed  guardian_mother  guardian_other  \\\n",
       "0                0               0                0               1   \n",
       "1                0               0                1               0   \n",
       "2                0               0                1               0   \n",
       "3                1               0                0               0   \n",
       "4                0               0                1               0   \n",
       "\n",
       "   internet_False  internet_True  \n",
       "0               0              1  \n",
       "1               1              0  \n",
       "2               1              0  \n",
       "3               0              1  \n",
       "4               0              1  \n",
       "\n",
       "[5 rows x 23 columns]"
      ]
     },
     "execution_count": 12,
     "metadata": {},
     "output_type": "execute_result"
    }
   ],
   "source": [
    "data.head()"
   ]
  },
  {
   "cell_type": "code",
   "execution_count": 13,
   "metadata": {},
   "outputs": [],
   "source": [
    "X = data.iloc[:,2:].values\n",
    "y = data.iloc[:,0].values"
   ]
  },
  {
   "cell_type": "code",
   "execution_count": 14,
   "metadata": {},
   "outputs": [],
   "source": [
    "y = np.asarray(y,dtype=np.float64)"
   ]
  },
  {
   "cell_type": "code",
   "execution_count": 15,
   "metadata": {},
   "outputs": [],
   "source": [
    "from sklearn.neighbors import KNeighborsClassifier\n",
    "from sklearn.model_selection import train_test_split"
   ]
  },
  {
   "cell_type": "code",
   "execution_count": 16,
   "metadata": {},
   "outputs": [],
   "source": [
    "X_train, X_test, y_train, y_test = train_test_split(X,y,test_size=.2,random_state=0)\n",
    "\n",
    "knn = KNeighborsClassifier(n_neighbors=3)\n"
   ]
  },
  {
   "cell_type": "code",
   "execution_count": 17,
   "metadata": {},
   "outputs": [
    {
     "data": {
      "text/plain": [
       "KNeighborsClassifier(algorithm='auto', leaf_size=30, metric='minkowski',\n",
       "           metric_params=None, n_jobs=1, n_neighbors=3, p=2,\n",
       "           weights='uniform')"
      ]
     },
     "execution_count": 17,
     "metadata": {},
     "output_type": "execute_result"
    }
   ],
   "source": [
    "knn.fit(X_train,y_train)"
   ]
  },
  {
   "cell_type": "code",
   "execution_count": 18,
   "metadata": {},
   "outputs": [],
   "source": [
    " score = knn.score(X_test,y_test)"
   ]
  },
  {
   "cell_type": "code",
   "execution_count": 19,
   "metadata": {},
   "outputs": [
    {
     "name": "stdout",
     "output_type": "stream",
     "text": [
      "0.9473531122745782\n"
     ]
    }
   ],
   "source": [
    "print(score)"
   ]
  },
  {
   "cell_type": "code",
   "execution_count": 20,
   "metadata": {},
   "outputs": [
    {
     "name": "stdout",
     "output_type": "stream",
     "text": [
      "0.9651687027341478\n",
      "0.9473531122745782\n"
     ]
    }
   ],
   "source": [
    "print(knn.score(X_train,y_train))\n",
    "print(knn.score(X_test,y_test))"
   ]
  },
  {
   "cell_type": "code",
   "execution_count": 21,
   "metadata": {},
   "outputs": [
    {
     "name": "stdout",
     "output_type": "stream",
     "text": [
      "0.9554246655031995\n",
      "0.9473531122745782\n"
     ]
    }
   ],
   "source": [
    "knn1 = KNeighborsClassifier(n_neighbors=5)\n",
    "knn1.fit(X_train,y_train)\n",
    "print(knn1.score(X_train,y_train))\n",
    "print(knn1.score(X_test,y_test))"
   ]
  },
  {
   "cell_type": "code",
   "execution_count": 22,
   "metadata": {},
   "outputs": [],
   "source": [
    "train_accuracy = []\n",
    "test_accuracy = []\n",
    "n_neighbors = range(1,11)\n",
    "for neighbors in n_neighbors:\n",
    "    knn2 = KNeighborsClassifier(n_neighbors=neighbors)\n",
    "    knn2.fit(X_train,y_train)\n",
    "    train_accuracy.append(knn2.score(X_train,y_train))\n",
    "    test_accuracy.append(knn2.score(X_test,y_test))"
   ]
  },
  {
   "cell_type": "code",
   "execution_count": 23,
   "metadata": {},
   "outputs": [
    {
     "data": {
      "text/plain": [
       "<matplotlib.legend.Legend at 0x1166fa048>"
      ]
     },
     "execution_count": 23,
     "metadata": {},
     "output_type": "execute_result"
    },
    {
     "data": {
      "image/png": "[encoded data removed]",
      "text/plain": [
       "<matplotlib.figure.Figure at 0x1089b2be0>"
      ]
     },
     "metadata": {},
     "output_type": "display_data"
    }
   ],
   "source": [
    "plt.plot(n_neighbors, train_accuracy, label=\"training accuracy\")\n",
    "plt.plot(n_neighbors, test_accuracy, label=\"test accuracy\")\n",
    "plt.ylabel(\"Accuracy\")\n",
    "plt.xlabel(\"n_neighbors\")\n",
    "plt.legend()"
   ]
  },
  {
   "cell_type": "markdown",
   "metadata": {},
   "source": [
    "# Feature Scaling"
   ]
  },
  {
   "cell_type": "code",
   "execution_count": 24,
   "metadata": {},
   "outputs": [
    {
     "data": {
      "text/plain": [
       "KNeighborsClassifier(algorithm='auto', leaf_size=30, metric='minkowski',\n",
       "           metric_params=None, n_jobs=1, n_neighbors=7, p=2,\n",
       "           weights='uniform')"
      ]
     },
     "execution_count": 24,
     "metadata": {},
     "output_type": "execute_result"
    }
   ],
   "source": [
    "from sklearn.preprocessing import StandardScaler\n",
    "sc_X  = StandardScaler()\n",
    "x_new_train = sc_X.fit_transform(X_train)\n",
    "X_new_test = sc_X.transform(X_test)\n",
    "\n",
    "\n",
    "knn3 = KNeighborsClassifier(n_neighbors=7)\n",
    "knn3.fit(x_new_train,y_train)"
   ]
  },
  {
   "cell_type": "code",
   "execution_count": 25,
   "metadata": {},
   "outputs": [
    {
     "name": "stdout",
     "output_type": "stream",
     "text": [
      "Training score after scaling features: 0.99\n",
      "Test score after scaling 0.99\n"
     ]
    }
   ],
   "source": [
    "print(\"Training score after scaling features: {:.2f}\".format(knn3.score(x_new_train,y_train)))\n",
    "print(\"Test score after scaling {:.2f}\".format(knn3.score(X_new_test,y_test)))"
   ]
  },
  {
   "cell_type": "markdown",
   "metadata": {},
   "source": [
    "Splitting data into train validation and test set"
   ]
  },
  {
   "cell_type": "code",
   "execution_count": 27,
   "metadata": {},
   "outputs": [],
   "source": [
    "x_train,x_val,Y_train,y_val = train_test_split(x_new_train,y_train,test_size=.2, random_state=35)"
   ]
  },
  {
   "cell_type": "code",
   "execution_count": 28,
   "metadata": {},
   "outputs": [
    {
     "name": "stdout",
     "output_type": "stream",
     "text": [
      "0.985459832788077\n"
     ]
    }
   ],
   "source": [
    "knnval = KNeighborsClassifier(n_neighbors=7)\n",
    "knnval.fit(x_train,Y_train)\n",
    "print(knnval.score(x_val,y_val))"
   ]
  },
  {
   "cell_type": "code",
   "execution_count": 29,
   "metadata": {},
   "outputs": [
    {
     "name": "stdout",
     "output_type": "stream",
     "text": [
      "0.9848749272833043\n"
     ]
    }
   ],
   "source": [
    "print(knnval.score(X_new_test,y_test))"
   ]
  },
  {
   "cell_type": "markdown",
   "metadata": {},
   "source": [
    "# Feature Engineering"
   ]
  },
  {
   "cell_type": "markdown",
   "metadata": {},
   "source": [
    "adding a new feature called average_marks = (mathematics_marks + science_marks + english_marks)/3"
   ]
  },
  {
   "cell_type": "code",
   "execution_count": 27,
   "metadata": {},
   "outputs": [
    {
     "data": {
      "text/html": [
       "<div>\n",
       "<style scoped>\n",
       "    .dataframe tbody tr th:only-of-type {\n",
       "        vertical-align: middle;\n",
       "    }\n",
       "\n",
       "    .dataframe tbody tr th {\n",
       "        vertical-align: top;\n",
       "    }\n",
       "\n",
       "    .dataframe thead th {\n",
       "        text-align: right;\n",
       "    }\n",
       "</style>\n",
       "<table border=\"1\" class=\"dataframe\">\n",
       "  <thead>\n",
       "    <tr style=\"text-align: right;\">\n",
       "      <th></th>\n",
       "      <th>continue_drop</th>\n",
       "      <th>student_id</th>\n",
       "      <th>mathematics_marks</th>\n",
       "      <th>english_marks</th>\n",
       "      <th>science_marks</th>\n",
       "      <th>science_teacher</th>\n",
       "      <th>languages_teacher</th>\n",
       "      <th>school_id</th>\n",
       "      <th>total_students</th>\n",
       "      <th>total_toilets</th>\n",
       "      <th>...</th>\n",
       "      <th>caste_BC</th>\n",
       "      <th>caste_OC</th>\n",
       "      <th>caste_SC</th>\n",
       "      <th>caste_ST</th>\n",
       "      <th>guardian_father</th>\n",
       "      <th>guardian_mixed</th>\n",
       "      <th>guardian_mother</th>\n",
       "      <th>guardian_other</th>\n",
       "      <th>internet_False</th>\n",
       "      <th>internet_True</th>\n",
       "    </tr>\n",
       "  </thead>\n",
       "  <tbody>\n",
       "    <tr>\n",
       "      <th>0</th>\n",
       "      <td>1</td>\n",
       "      <td>s01746</td>\n",
       "      <td>0.666</td>\n",
       "      <td>0.468</td>\n",
       "      <td>0.666</td>\n",
       "      <td>7</td>\n",
       "      <td>6</td>\n",
       "      <td>305</td>\n",
       "      <td>354</td>\n",
       "      <td>86.0</td>\n",
       "      <td>...</td>\n",
       "      <td>1</td>\n",
       "      <td>0</td>\n",
       "      <td>0</td>\n",
       "      <td>0</td>\n",
       "      <td>0</td>\n",
       "      <td>0</td>\n",
       "      <td>0</td>\n",
       "      <td>1</td>\n",
       "      <td>0</td>\n",
       "      <td>1</td>\n",
       "    </tr>\n",
       "    <tr>\n",
       "      <th>1</th>\n",
       "      <td>1</td>\n",
       "      <td>s16986</td>\n",
       "      <td>0.172</td>\n",
       "      <td>0.420</td>\n",
       "      <td>0.172</td>\n",
       "      <td>8</td>\n",
       "      <td>10</td>\n",
       "      <td>331</td>\n",
       "      <td>516</td>\n",
       "      <td>15.0</td>\n",
       "      <td>...</td>\n",
       "      <td>1</td>\n",
       "      <td>0</td>\n",
       "      <td>0</td>\n",
       "      <td>0</td>\n",
       "      <td>0</td>\n",
       "      <td>0</td>\n",
       "      <td>1</td>\n",
       "      <td>0</td>\n",
       "      <td>1</td>\n",
       "      <td>0</td>\n",
       "    </tr>\n",
       "    <tr>\n",
       "      <th>2</th>\n",
       "      <td>1</td>\n",
       "      <td>s00147</td>\n",
       "      <td>0.212</td>\n",
       "      <td>0.601</td>\n",
       "      <td>0.212</td>\n",
       "      <td>1</td>\n",
       "      <td>4</td>\n",
       "      <td>311</td>\n",
       "      <td>209</td>\n",
       "      <td>14.0</td>\n",
       "      <td>...</td>\n",
       "      <td>1</td>\n",
       "      <td>0</td>\n",
       "      <td>0</td>\n",
       "      <td>0</td>\n",
       "      <td>0</td>\n",
       "      <td>0</td>\n",
       "      <td>1</td>\n",
       "      <td>0</td>\n",
       "      <td>1</td>\n",
       "      <td>0</td>\n",
       "    </tr>\n",
       "    <tr>\n",
       "      <th>3</th>\n",
       "      <td>1</td>\n",
       "      <td>s08104</td>\n",
       "      <td>0.434</td>\n",
       "      <td>0.611</td>\n",
       "      <td>0.434</td>\n",
       "      <td>2</td>\n",
       "      <td>5</td>\n",
       "      <td>364</td>\n",
       "      <td>147</td>\n",
       "      <td>28.0</td>\n",
       "      <td>...</td>\n",
       "      <td>0</td>\n",
       "      <td>0</td>\n",
       "      <td>0</td>\n",
       "      <td>1</td>\n",
       "      <td>1</td>\n",
       "      <td>0</td>\n",
       "      <td>0</td>\n",
       "      <td>0</td>\n",
       "      <td>0</td>\n",
       "      <td>1</td>\n",
       "    </tr>\n",
       "    <tr>\n",
       "      <th>4</th>\n",
       "      <td>1</td>\n",
       "      <td>s11132</td>\n",
       "      <td>0.283</td>\n",
       "      <td>0.478</td>\n",
       "      <td>0.283</td>\n",
       "      <td>1</td>\n",
       "      <td>10</td>\n",
       "      <td>394</td>\n",
       "      <td>122</td>\n",
       "      <td>15.0</td>\n",
       "      <td>...</td>\n",
       "      <td>0</td>\n",
       "      <td>0</td>\n",
       "      <td>1</td>\n",
       "      <td>0</td>\n",
       "      <td>0</td>\n",
       "      <td>0</td>\n",
       "      <td>1</td>\n",
       "      <td>0</td>\n",
       "      <td>0</td>\n",
       "      <td>1</td>\n",
       "    </tr>\n",
       "  </tbody>\n",
       "</table>\n",
       "<p>5 rows × 23 columns</p>\n",
       "</div>"
      ],
      "text/plain": [
       "  continue_drop student_id  mathematics_marks  english_marks  science_marks  \\\n",
       "0             1     s01746              0.666          0.468          0.666   \n",
       "1             1     s16986              0.172          0.420          0.172   \n",
       "2             1     s00147              0.212          0.601          0.212   \n",
       "3             1     s08104              0.434          0.611          0.434   \n",
       "4             1     s11132              0.283          0.478          0.283   \n",
       "\n",
       "   science_teacher  languages_teacher  school_id  total_students  \\\n",
       "0                7                  6        305             354   \n",
       "1                8                 10        331             516   \n",
       "2                1                  4        311             209   \n",
       "3                2                  5        364             147   \n",
       "4                1                 10        394             122   \n",
       "\n",
       "   total_toilets      ...        caste_BC  caste_OC  caste_SC  caste_ST  \\\n",
       "0           86.0      ...               1         0         0         0   \n",
       "1           15.0      ...               1         0         0         0   \n",
       "2           14.0      ...               1         0         0         0   \n",
       "3           28.0      ...               0         0         0         1   \n",
       "4           15.0      ...               0         0         1         0   \n",
       "\n",
       "   guardian_father  guardian_mixed  guardian_mother  guardian_other  \\\n",
       "0                0               0                0               1   \n",
       "1                0               0                1               0   \n",
       "2                0               0                1               0   \n",
       "3                1               0                0               0   \n",
       "4                0               0                1               0   \n",
       "\n",
       "   internet_False  internet_True  \n",
       "0               0              1  \n",
       "1               1              0  \n",
       "2               1              0  \n",
       "3               0              1  \n",
       "4               0              1  \n",
       "\n",
       "[5 rows x 23 columns]"
      ]
     },
     "execution_count": 27,
     "metadata": {},
     "output_type": "execute_result"
    }
   ],
   "source": [
    "data.head()"
   ]
  },
  {
   "cell_type": "code",
   "execution_count": 30,
   "metadata": {},
   "outputs": [],
   "source": [
    "data['average_marks'] = (data['mathematics_marks'] + data['english_marks'] + data['science_marks'])/3"
   ]
  },
  {
   "cell_type": "code",
   "execution_count": null,
   "metadata": {},
   "outputs": [],
   "source": [
    "data.to_csv('train_set.csv')"
   ]
  },
  {
   "cell_type": "code",
   "execution_count": 31,
   "metadata": {},
   "outputs": [],
   "source": [
    "X1 = data.iloc[:,2:].values\n",
    "y1 = data.iloc[:,0].values\n",
    "y1 = np.asarray(y,dtype=np.float64)"
   ]
  },
  {
   "cell_type": "code",
   "execution_count": 32,
   "metadata": {},
   "outputs": [],
   "source": [
    "X1_train, X1_test, y1_train, y1_test = train_test_split(X1,y1,test_size=.2,random_state=1)\n",
    "\n",
    "train_accuracy1 = []\n",
    "test_accuracy1 = []\n",
    "n_neighbors1 = range(1,11)\n",
    "for neighbors in n_neighbors1:\n",
    "    knn5 = KNeighborsClassifier(n_neighbors=neighbors)\n",
    "    knn5.fit(X1_train,y1_train)\n",
    "    train_accuracy1.append(knn5.score(X1_train,y1_train))\n",
    "    test_accuracy1.append(knn5.score(X1_test,y1_test))"
   ]
  },
  {
   "cell_type": "code",
   "execution_count": 33,
   "metadata": {},
   "outputs": [
    {
     "data": {
      "text/plain": [
       "<matplotlib.legend.Legend at 0x117004550>"
      ]
     },
     "execution_count": 33,
     "metadata": {},
     "output_type": "execute_result"
    },
    {
     "data": {
      "image/png": "[encoded data removed]",
      "text/plain": [
       "<matplotlib.figure.Figure at 0x11663c898>"
      ]
     },
     "metadata": {},
     "output_type": "display_data"
    }
   ],
   "source": [
    "plt.plot(n_neighbors1, train_accuracy1, label=\"training accuracy\")\n",
    "plt.plot(n_neighbors1, test_accuracy1, label=\"test accuracy\")\n",
    "plt.ylabel(\"Accuracy\")\n",
    "plt.xlabel(\"n_neighbors\")\n",
    "plt.legend()"
   ]
  },
  {
   "cell_type": "code",
   "execution_count": 34,
   "metadata": {},
   "outputs": [
    {
     "data": {
      "text/plain": [
       "KNeighborsClassifier(algorithm='auto', leaf_size=30, metric='minkowski',\n",
       "           metric_params=None, n_jobs=1, n_neighbors=7, p=2,\n",
       "           weights='uniform')"
      ]
     },
     "execution_count": 34,
     "metadata": {},
     "output_type": "execute_result"
    }
   ],
   "source": [
    "sc_X1  = StandardScaler()\n",
    "x1_new_train = sc_X1.fit_transform(X1_train)\n",
    "X1_new_test = sc_X1.transform(X1_test)\n",
    "\n",
    "knn6 = KNeighborsClassifier(n_neighbors=7)\n",
    "knn6.fit(x1_new_train,y1_train)"
   ]
  },
  {
   "cell_type": "code",
   "execution_count": 35,
   "metadata": {},
   "outputs": [],
   "source": [
    "pred = knn6.predict(X1_new_test)"
   ]
  },
  {
   "cell_type": "code",
   "execution_count": 36,
   "metadata": {},
   "outputs": [
    {
     "name": "stdout",
     "output_type": "stream",
     "text": [
      "Training score after scaling features: 0.99\n",
      "Test score after scaling 0.99\n"
     ]
    }
   ],
   "source": [
    "print(\"Training score after scaling features: {:.2f}\".format(knn6.score(x1_new_train,y1_train)))\n",
    "print(\"Test score after scaling {:.2f}\".format(knn6.score(X1_new_test,y1_test)))"
   ]
  },
  {
   "cell_type": "code",
   "execution_count": 37,
   "metadata": {},
   "outputs": [
    {
     "name": "stdout",
     "output_type": "stream",
     "text": [
      "Confusion matrix:\n",
      "[[ 131   21]\n",
      " [   2 3284]]\n"
     ]
    }
   ],
   "source": [
    "from sklearn.metrics import confusion_matrix \n",
    "confusion = confusion_matrix(y1_test, pred)\n",
    "print(\"Confusion matrix:\\n{}\".format(confusion))"
   ]
  },
  {
   "cell_type": "code",
   "execution_count": 55,
   "metadata": {},
   "outputs": [],
   "source": [
    "test = pd.read_csv('test_data_week_1_challenge.csv')"
   ]
  },
  {
   "cell_type": "code",
   "execution_count": 56,
   "metadata": {},
   "outputs": [
    {
     "data": {
      "text/plain": [
       "student_id             0\n",
       "gender                 0\n",
       "caste                  0\n",
       "mathematics_marks      0\n",
       "english_marks          0\n",
       "science_marks          0\n",
       "science_teacher        0\n",
       "languages_teacher      0\n",
       "guardian               0\n",
       "internet               0\n",
       "school_id              0\n",
       "total_students         0\n",
       "total_toilets         26\n",
       "establishment_year    26\n",
       "dtype: int64"
      ]
     },
     "execution_count": 56,
     "metadata": {},
     "output_type": "execute_result"
    }
   ],
   "source": [
    "test.isnull().sum()"
   ]
  },
  {
   "cell_type": "code",
   "execution_count": 57,
   "metadata": {},
   "outputs": [],
   "source": [
    "test['total_toilets'].fillna(test['total_toilets'].mean(), inplace=True)\n",
    "test['establishment_year'].fillna(test['establishment_year'].mean(), inplace=True)"
   ]
  },
  {
   "cell_type": "code",
   "execution_count": 58,
   "metadata": {},
   "outputs": [
    {
     "data": {
      "text/plain": [
       "student_id            0\n",
       "gender                0\n",
       "caste                 0\n",
       "mathematics_marks     0\n",
       "english_marks         0\n",
       "science_marks         0\n",
       "science_teacher       0\n",
       "languages_teacher     0\n",
       "guardian              0\n",
       "internet              0\n",
       "school_id             0\n",
       "total_students        0\n",
       "total_toilets         0\n",
       "establishment_year    0\n",
       "dtype: int64"
      ]
     },
     "execution_count": 58,
     "metadata": {},
     "output_type": "execute_result"
    }
   ],
   "source": [
    "test.isnull().sum()"
   ]
  },
  {
   "cell_type": "code",
   "execution_count": 59,
   "metadata": {},
   "outputs": [],
   "source": [
    "test = pd.get_dummies(test,columns=['gender','caste','guardian','internet'])"
   ]
  },
  {
   "cell_type": "code",
   "execution_count": 61,
   "metadata": {},
   "outputs": [],
   "source": [
    "test['average_marks'] = (test['mathematics_marks'] + test['english_marks'] + test['science_marks'])/3"
   ]
  },
  {
   "cell_type": "code",
   "execution_count": 79,
   "metadata": {},
   "outputs": [],
   "source": [
    "test.to_csv('preprossed.csv')"
   ]
  },
  {
   "cell_type": "code",
   "execution_count": 67,
   "metadata": {},
   "outputs": [],
   "source": [
    "Xtest = test.iloc[:,1:].values"
   ]
  },
  {
   "cell_type": "code",
   "execution_count": 75,
   "metadata": {},
   "outputs": [
    {
     "data": {
      "text/plain": [
       "1910"
      ]
     },
     "execution_count": 75,
     "metadata": {},
     "output_type": "execute_result"
    }
   ],
   "source": [
    "len(Xtest)"
   ]
  },
  {
   "cell_type": "code",
   "execution_count": 69,
   "metadata": {},
   "outputs": [],
   "source": [
    "sc  = StandardScaler()\n",
    "xtest = sc.fit_transform(Xtest)"
   ]
  },
  {
   "cell_type": "code",
   "execution_count": 71,
   "metadata": {},
   "outputs": [],
   "source": [
    "predicted = knn6.predict(xtest)"
   ]
  },
  {
   "cell_type": "code",
   "execution_count": 73,
   "metadata": {},
   "outputs": [],
   "source": [
    "np.save('predictions.npy',predicted)"
   ]
  },
  {
   "cell_type": "code",
   "execution_count": 34,
   "metadata": {},
   "outputs": [
    {
     "data": {
      "text/plain": [
       "RandomForestClassifier(bootstrap=True, class_weight=None, criterion='gini',\n",
       "            max_depth=None, max_features='auto', max_leaf_nodes=None,\n",
       "            min_impurity_decrease=0.0, min_impurity_split=None,\n",
       "            min_samples_leaf=1, min_samples_split=2,\n",
       "            min_weight_fraction_leaf=0.0, n_estimators=10, n_jobs=1,\n",
       "            oob_score=False, random_state=None, verbose=0,\n",
       "            warm_start=False)"
      ]
     },
     "execution_count": 34,
     "metadata": {},
     "output_type": "execute_result"
    }
   ],
   "source": [
    "#using the random forest classifier\n",
    "from sklearn.ensemble import RandomForestClassifier\n",
    "clf = RandomForestClassifier()\n",
    "clf.fit(X_train, y_train)"
   ]
  },
  {
   "cell_type": "code",
   "execution_count": 35,
   "metadata": {},
   "outputs": [
    {
     "name": "stdout",
     "output_type": "stream",
     "text": [
      "1.0\n"
     ]
    }
   ],
   "source": [
    "print(clf.score(X_test,y_test))"
   ]
  },
  {
   "cell_type": "code",
   "execution_count": 37,
   "metadata": {},
   "outputs": [
    {
     "name": "stdout",
     "output_type": "stream",
     "text": [
      "1.0\n",
      "1.0\n"
     ]
    }
   ],
   "source": [
    "clf = RandomForestClassifier()\n",
    "clf.fit(X_train, y_train)\n",
    "print(clf.score(X_train,y_train))\n",
    "print(clf.score(X_test,y_test))"
   ]
  },
  {
   "cell_type": "code",
   "execution_count": 42,
   "metadata": {},
   "outputs": [
    {
     "data": {
      "text/plain": [
       "Index(['mathematics_marks', 'english_marks', 'science_marks',\n",
       "       'science_teacher', 'languages_teacher', 'school_id', 'total_students',\n",
       "       'total_toilets', 'establishment_year', 'gender_F', 'gender_M',\n",
       "       'caste_BC', 'caste_OC', 'caste_SC', 'caste_ST', 'guardian_father',\n",
       "       'guardian_mixed', 'guardian_mother', 'guardian_other', 'internet_False',\n",
       "       'internet_True'],\n",
       "      dtype='object')"
      ]
     },
     "execution_count": 42,
     "metadata": {},
     "output_type": "execute_result"
    }
   ],
   "source": [
    "X12.columns"
   ]
  },
  {
   "cell_type": "code",
   "execution_count": 43,
   "metadata": {},
   "outputs": [],
   "source": [
    "#examing the important features\n",
    "feature_importances = pd.DataFrame(clf2.feature_importances_,\n",
    "                                   index = X12.columns,\n",
    "                                    columns=['importance']).sort_values('importance',ascending=False)"
   ]
  },
  {
   "cell_type": "code",
   "execution_count": 44,
   "metadata": {},
   "outputs": [
    {
     "data": {
      "text/html": [
       "<div>\n",
       "<style scoped>\n",
       "    .dataframe tbody tr th:only-of-type {\n",
       "        vertical-align: middle;\n",
       "    }\n",
       "\n",
       "    .dataframe tbody tr th {\n",
       "        vertical-align: top;\n",
       "    }\n",
       "\n",
       "    .dataframe thead th {\n",
       "        text-align: right;\n",
       "    }\n",
       "</style>\n",
       "<table border=\"1\" class=\"dataframe\">\n",
       "  <thead>\n",
       "    <tr style=\"text-align: right;\">\n",
       "      <th></th>\n",
       "      <th>importance</th>\n",
       "    </tr>\n",
       "  </thead>\n",
       "  <tbody>\n",
       "    <tr>\n",
       "      <th>english_marks</th>\n",
       "      <td>0.213017</td>\n",
       "    </tr>\n",
       "    <tr>\n",
       "      <th>science_marks</th>\n",
       "      <td>0.173443</td>\n",
       "    </tr>\n",
       "    <tr>\n",
       "      <th>mathematics_marks</th>\n",
       "      <td>0.164713</td>\n",
       "    </tr>\n",
       "    <tr>\n",
       "      <th>languages_teacher</th>\n",
       "      <td>0.140225</td>\n",
       "    </tr>\n",
       "    <tr>\n",
       "      <th>science_teacher</th>\n",
       "      <td>0.099582</td>\n",
       "    </tr>\n",
       "    <tr>\n",
       "      <th>guardian_mother</th>\n",
       "      <td>0.026670</td>\n",
       "    </tr>\n",
       "    <tr>\n",
       "      <th>gender_M</th>\n",
       "      <td>0.026338</td>\n",
       "    </tr>\n",
       "    <tr>\n",
       "      <th>guardian_father</th>\n",
       "      <td>0.021671</td>\n",
       "    </tr>\n",
       "    <tr>\n",
       "      <th>gender_F</th>\n",
       "      <td>0.018621</td>\n",
       "    </tr>\n",
       "    <tr>\n",
       "      <th>guardian_other</th>\n",
       "      <td>0.018396</td>\n",
       "    </tr>\n",
       "    <tr>\n",
       "      <th>caste_SC</th>\n",
       "      <td>0.017446</td>\n",
       "    </tr>\n",
       "    <tr>\n",
       "      <th>caste_OC</th>\n",
       "      <td>0.016814</td>\n",
       "    </tr>\n",
       "    <tr>\n",
       "      <th>internet_False</th>\n",
       "      <td>0.015238</td>\n",
       "    </tr>\n",
       "    <tr>\n",
       "      <th>internet_True</th>\n",
       "      <td>0.012880</td>\n",
       "    </tr>\n",
       "    <tr>\n",
       "      <th>establishment_year</th>\n",
       "      <td>0.008119</td>\n",
       "    </tr>\n",
       "    <tr>\n",
       "      <th>caste_ST</th>\n",
       "      <td>0.008065</td>\n",
       "    </tr>\n",
       "    <tr>\n",
       "      <th>school_id</th>\n",
       "      <td>0.006377</td>\n",
       "    </tr>\n",
       "    <tr>\n",
       "      <th>total_students</th>\n",
       "      <td>0.005138</td>\n",
       "    </tr>\n",
       "    <tr>\n",
       "      <th>total_toilets</th>\n",
       "      <td>0.004055</td>\n",
       "    </tr>\n",
       "    <tr>\n",
       "      <th>caste_BC</th>\n",
       "      <td>0.003176</td>\n",
       "    </tr>\n",
       "    <tr>\n",
       "      <th>guardian_mixed</th>\n",
       "      <td>0.000015</td>\n",
       "    </tr>\n",
       "  </tbody>\n",
       "</table>\n",
       "</div>"
      ],
      "text/plain": [
       "                    importance\n",
       "english_marks         0.213017\n",
       "science_marks         0.173443\n",
       "mathematics_marks     0.164713\n",
       "languages_teacher     0.140225\n",
       "science_teacher       0.099582\n",
       "guardian_mother       0.026670\n",
       "gender_M              0.026338\n",
       "guardian_father       0.021671\n",
       "gender_F              0.018621\n",
       "guardian_other        0.018396\n",
       "caste_SC              0.017446\n",
       "caste_OC              0.016814\n",
       "internet_False        0.015238\n",
       "internet_True         0.012880\n",
       "establishment_year    0.008119\n",
       "caste_ST              0.008065\n",
       "school_id             0.006377\n",
       "total_students        0.005138\n",
       "total_toilets         0.004055\n",
       "caste_BC              0.003176\n",
       "guardian_mixed        0.000015"
      ]
     },
     "execution_count": 44,
     "metadata": {},
     "output_type": "execute_result"
    }
   ],
   "source": [
    "feature_importances"
   ]
  },
  {
   "cell_type": "code",
   "execution_count": 45,
   "metadata": {},
   "outputs": [
    {
     "data": {
      "text/plain": [
       "<matplotlib.axes._subplots.AxesSubplot at 0x1230f19b0>"
      ]
     },
     "execution_count": 45,
     "metadata": {},
     "output_type": "execute_result"
    },
    {
     "data": {
      "image/png": "[encoded data removed]",
      "text/plain": [
       "<matplotlib.figure.Figure at 0x122fe6f98>"
      ]
     },
     "metadata": {},
     "output_type": "display_data"
    }
   ],
   "source": [
    "#ploting the feature importances inorder of importance\n",
    "feature_importances.plot(kind='bar')"
   ]
  },
  {
   "cell_type": "code",
   "execution_count": 46,
   "metadata": {},
   "outputs": [],
   "source": [
    "#using the important features only for the model\n",
    "X_new = data[['english_marks','science_marks','mathematics_marks','languages_teacher','average_marks']].values"
   ]
  },
  {
   "cell_type": "code",
   "execution_count": 47,
   "metadata": {},
   "outputs": [],
   "source": [
    "X_new_train,x_new_test,yrf_train,yrf_test = train_test_split(X_new,y,random_state=66)"
   ]
  },
  {
   "cell_type": "code",
   "execution_count": 48,
   "metadata": {},
   "outputs": [
    {
     "name": "stdout",
     "output_type": "stream",
     "text": [
      "1.0\n",
      "1.0\n"
     ]
    }
   ],
   "source": [
    "clf4 = RandomForestClassifier(n_estimators=10)\n",
    "clf4.fit(X_new_train, yrf_train)\n",
    "print(clf4.score(X_new_train,yrf_train))\n",
    "print(clf4.score(x_new_test,yrf_test))"
   ]
  },
  {
   "cell_type": "markdown",
   "metadata": {},
   "source": [
    "# Cross-validation"
   ]
  },
  {
   "cell_type": "code",
   "execution_count": 49,
   "metadata": {},
   "outputs": [],
   "source": [
    "clean_data = pd.read_csv('Preprocessed_train_set.csv')"
   ]
  },
  {
   "cell_type": "code",
   "execution_count": 50,
   "metadata": {},
   "outputs": [],
   "source": [
    "X_clean = clean_data.iloc[:,3:].values\n",
    "y_clean = clean_data.iloc[:,1].values"
   ]
  },
  {
   "cell_type": "code",
   "execution_count": 51,
   "metadata": {},
   "outputs": [
    {
     "data": {
      "text/plain": [
       "array([1, 1, 1, ..., 1, 1, 1])"
      ]
     },
     "execution_count": 51,
     "metadata": {},
     "output_type": "execute_result"
    }
   ],
   "source": [
    "y_clean"
   ]
  },
  {
   "cell_type": "code",
   "execution_count": 52,
   "metadata": {},
   "outputs": [
    {
     "name": "stdout",
     "output_type": "stream",
     "text": [
      "Cross validation score:\n",
      "0.9520069808027924\n"
     ]
    }
   ],
   "source": [
    "from sklearn.model_selection import cross_val_score,KFold\n",
    "kfold = KFold(n_splits = 10)\n",
    "knn7 = KNeighborsClassifier(n_neighbors=7)\n",
    "print(\"Cross validation score:\\n{}\".format((cross_val_score(knn7,X_clean, y_clean, cv=kfold)).mean()))"
   ]
  },
  {
   "cell_type": "code",
   "execution_count": 54,
   "metadata": {},
   "outputs": [
    {
     "ename": "KeyboardInterrupt",
     "evalue": "",
     "output_type": "error",
     "traceback": [
      "\u001b[0;31m---------------------------------------------------------------------------\u001b[0m",
      "\u001b[0;31mKeyboardInterrupt\u001b[0m                         Traceback (most recent call last)",
      "\u001b[0;32m<ipython-input-54-5c089864e281>\u001b[0m in \u001b[0;36m<module>\u001b[0;34m()\u001b[0m\n\u001b[1;32m      2\u001b[0m \u001b[0mloo\u001b[0m \u001b[0;34m=\u001b[0m \u001b[0mLeaveOneOut\u001b[0m\u001b[0;34m(\u001b[0m\u001b[0;34m)\u001b[0m\u001b[0;34m\u001b[0m\u001b[0m\n\u001b[1;32m      3\u001b[0m \u001b[0mknn8\u001b[0m \u001b[0;34m=\u001b[0m \u001b[0mKNeighborsClassifier\u001b[0m\u001b[0;34m(\u001b[0m\u001b[0mn_neighbors\u001b[0m\u001b[0;34m=\u001b[0m\u001b[0;36m7\u001b[0m\u001b[0;34m)\u001b[0m\u001b[0;34m\u001b[0m\u001b[0m\n\u001b[0;32m----> 4\u001b[0;31m \u001b[0mscores\u001b[0m \u001b[0;34m=\u001b[0m \u001b[0mcross_val_score\u001b[0m\u001b[0;34m(\u001b[0m\u001b[0mknn8\u001b[0m\u001b[0;34m,\u001b[0m\u001b[0mX_clean\u001b[0m\u001b[0;34m,\u001b[0m \u001b[0my_clean\u001b[0m\u001b[0;34m,\u001b[0m \u001b[0mcv\u001b[0m\u001b[0;34m=\u001b[0m\u001b[0mloo\u001b[0m\u001b[0;34m)\u001b[0m\u001b[0;34m\u001b[0m\u001b[0m\n\u001b[0m\u001b[1;32m      5\u001b[0m \u001b[0mprint\u001b[0m\u001b[0;34m(\u001b[0m\u001b[0;34m\"mean accuracy:\\n{:.2f}\"\u001b[0m\u001b[0;34m.\u001b[0m\u001b[0mformat\u001b[0m\u001b[0;34m(\u001b[0m\u001b[0mscores\u001b[0m\u001b[0;34m.\u001b[0m\u001b[0mmean\u001b[0m\u001b[0;34m(\u001b[0m\u001b[0;34m)\u001b[0m\u001b[0;34m)\u001b[0m\u001b[0;34m)\u001b[0m\u001b[0;34m\u001b[0m\u001b[0m\n",
      "\u001b[0;32m/Volumes/Other/anaconda3/lib/python3.6/site-packages/sklearn/model_selection/_validation.py\u001b[0m in \u001b[0;36mcross_val_score\u001b[0;34m(estimator, X, y, groups, scoring, cv, n_jobs, verbose, fit_params, pre_dispatch)\u001b[0m\n\u001b[1;32m    340\u001b[0m                                 \u001b[0mn_jobs\u001b[0m\u001b[0;34m=\u001b[0m\u001b[0mn_jobs\u001b[0m\u001b[0;34m,\u001b[0m \u001b[0mverbose\u001b[0m\u001b[0;34m=\u001b[0m\u001b[0mverbose\u001b[0m\u001b[0;34m,\u001b[0m\u001b[0;34m\u001b[0m\u001b[0m\n\u001b[1;32m    341\u001b[0m                                 \u001b[0mfit_params\u001b[0m\u001b[0;34m=\u001b[0m\u001b[0mfit_params\u001b[0m\u001b[0;34m,\u001b[0m\u001b[0;34m\u001b[0m\u001b[0m\n\u001b[0;32m--> 342\u001b[0;31m                                 pre_dispatch=pre_dispatch)\n\u001b[0m\u001b[1;32m    343\u001b[0m     \u001b[0;32mreturn\u001b[0m \u001b[0mcv_results\u001b[0m\u001b[0;34m[\u001b[0m\u001b[0;34m'test_score'\u001b[0m\u001b[0;34m]\u001b[0m\u001b[0;34m\u001b[0m\u001b[0m\n\u001b[1;32m    344\u001b[0m \u001b[0;34m\u001b[0m\u001b[0m\n",
      "\u001b[0;32m/Volumes/Other/anaconda3/lib/python3.6/site-packages/sklearn/model_selection/_validation.py\u001b[0m in \u001b[0;36mcross_validate\u001b[0;34m(estimator, X, y, groups, scoring, cv, n_jobs, verbose, fit_params, pre_dispatch, return_train_score)\u001b[0m\n\u001b[1;32m    204\u001b[0m             \u001b[0mfit_params\u001b[0m\u001b[0;34m,\u001b[0m \u001b[0mreturn_train_score\u001b[0m\u001b[0;34m=\u001b[0m\u001b[0mreturn_train_score\u001b[0m\u001b[0;34m,\u001b[0m\u001b[0;34m\u001b[0m\u001b[0m\n\u001b[1;32m    205\u001b[0m             return_times=True)\n\u001b[0;32m--> 206\u001b[0;31m         for train, test in cv.split(X, y, groups))\n\u001b[0m\u001b[1;32m    207\u001b[0m \u001b[0;34m\u001b[0m\u001b[0m\n\u001b[1;32m    208\u001b[0m     \u001b[0;32mif\u001b[0m \u001b[0mreturn_train_score\u001b[0m\u001b[0;34m:\u001b[0m\u001b[0;34m\u001b[0m\u001b[0m\n",
      "\u001b[0;32m/Volumes/Other/anaconda3/lib/python3.6/site-packages/sklearn/externals/joblib/parallel.py\u001b[0m in \u001b[0;36m__call__\u001b[0;34m(self, iterable)\u001b[0m\n\u001b[1;32m    777\u001b[0m             \u001b[0;31m# was dispatched. In particular this covers the edge\u001b[0m\u001b[0;34m\u001b[0m\u001b[0;34m\u001b[0m\u001b[0m\n\u001b[1;32m    778\u001b[0m             \u001b[0;31m# case of Parallel used with an exhausted iterator.\u001b[0m\u001b[0;34m\u001b[0m\u001b[0;34m\u001b[0m\u001b[0m\n\u001b[0;32m--> 779\u001b[0;31m             \u001b[0;32mwhile\u001b[0m \u001b[0mself\u001b[0m\u001b[0;34m.\u001b[0m\u001b[0mdispatch_one_batch\u001b[0m\u001b[0;34m(\u001b[0m\u001b[0miterator\u001b[0m\u001b[0;34m)\u001b[0m\u001b[0;34m:\u001b[0m\u001b[0;34m\u001b[0m\u001b[0m\n\u001b[0m\u001b[1;32m    780\u001b[0m                 \u001b[0mself\u001b[0m\u001b[0;34m.\u001b[0m\u001b[0m_iterating\u001b[0m \u001b[0;34m=\u001b[0m \u001b[0;32mTrue\u001b[0m\u001b[0;34m\u001b[0m\u001b[0m\n\u001b[1;32m    781\u001b[0m             \u001b[0;32melse\u001b[0m\u001b[0;34m:\u001b[0m\u001b[0;34m\u001b[0m\u001b[0m\n",
      "\u001b[0;31mKeyboardInterrupt\u001b[0m: "
     ]
    }
   ],
   "source": [
    "from sklearn.model_selection import LeaveOneOut\n",
    "loo = LeaveOneOut()\n",
    "knn8 = KNeighborsClassifier(n_neighbors=7)\n",
    "scores = cross_val_score(knn8,X_clean, y_clean, cv=loo)\n",
    "print(\"mean accuracy:\\n{:.2f}\".format(scores.mean()))"
   ]
  },
  {
   "cell_type": "code",
   "execution_count": 76,
   "metadata": {},
   "outputs": [
    {
     "name": "stdout",
     "output_type": "stream",
     "text": [
      "mean accuracy:\n",
      "0.99\n"
     ]
    }
   ],
   "source": [
    "sc_X11  = StandardScaler()\n",
    "X_clean = sc_X11.fit_transform(X_clean)\n",
    "knn9 = KNeighborsClassifier(n_neighbors=7)\n",
    "scores = cross_val_score(knn9,X_clean, y_clean, cv=kfold)\n",
    "print(\"mean accuracy:\\n{:.2f}\".format(scores.mean()))"
   ]
  },
  {
   "cell_type": "code",
   "execution_count": null,
   "metadata": {},
   "outputs": [],
   "source": []
  }
 ],
 "metadata": {
  "kernelspec": {
   "display_name": "Python 3",
   "language": "python",
   "name": "python3"
  },
  "language_info": {
   "codemirror_mode": {
    "name": "ipython",
    "version": 3
   },
   "file_extension": ".py",
   "mimetype": "text/x-python",
   "name": "python",
   "nbconvert_exporter": "python",
   "pygments_lexer": "ipython3",
   "version": "3.6.4"
  }
 },
 "nbformat": 4,
 "nbformat_minor": 2
}
